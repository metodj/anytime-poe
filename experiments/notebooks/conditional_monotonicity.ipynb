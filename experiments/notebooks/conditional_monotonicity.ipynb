{
 "cells": [
  {
   "cell_type": "code",
   "execution_count": 1,
   "metadata": {},
   "outputs": [
    {
     "name": "stderr",
     "output_type": "stream",
     "text": [
      "2023-01-20 17:54:40.354588: E tensorflow/stream_executor/cuda/cuda_blas.cc:2981] Unable to register cuBLAS factory: Attempting to register factory for plugin cuBLAS when one has already been registered\n",
      "2023-01-20 17:54:41.137430: W tensorflow/stream_executor/platform/default/dso_loader.cc:64] Could not load dynamic library 'libnvinfer.so.7'; dlerror: libnvinfer.so.7: cannot open shared object file: No such file or directory\n",
      "2023-01-20 17:54:41.137514: W tensorflow/stream_executor/platform/default/dso_loader.cc:64] Could not load dynamic library 'libnvinfer_plugin.so.7'; dlerror: libnvinfer_plugin.so.7: cannot open shared object file: No such file or directory\n",
      "2023-01-20 17:54:41.137524: W tensorflow/compiler/tf2tensorrt/utils/py_utils.cc:38] TF-TRT Warning: Cannot dlopen some TensorRT libraries. If you would like to use Nvidia GPU with TensorRT, please make sure the missing libraries mentioned above are installed properly.\n",
      "WARNING:absl:GlobalAsyncCheckpointManager is not imported correctly. Checkpointing of GlobalDeviceArrays will not be available.To use the feature, install tensorstore.\n"
     ]
    }
   ],
   "source": [
    "import sys; sys.path.insert(0, \"../../\")\n",
    "\n",
    "import os\n",
    "import logging\n",
    "import random as rnd\n",
    "from functools import partial\n",
    "from typing import Callable\n",
    "\n",
    "from jax import random, vmap\n",
    "from flax.core import frozen_dict\n",
    "from torchvision import transforms\n",
    "import wandb\n",
    "from flax.training.checkpoints import save_checkpoint, restore_checkpoint\n",
    "\n",
    "from src.models import make_Cls_Ens_loss as make_ens_loss\n",
    "from src.models.common import prune_labels\n",
    "from src.data import get_image_dataset, NumpyLoader\n",
    "from src.utils.training import setup_training, train_loop\n",
    "from src.utils.notebook_metrics import *\n",
    "from experiments.notebooks.utils.general import *\n",
    "\n",
    "from operator import itemgetter\n",
    "from  functools import partial\n",
    "from itertools import combinations\n",
    "\n",
    "import pandas as pd\n",
    "import matplotlib.pyplot as plt\n",
    "import numpy as np\n",
    "\n",
    "from plotly.subplots import make_subplots\n",
    "import plotly.graph_objects as go\n",
    "\n",
    "from sklearn.metrics import average_precision_score, roc_auc_score, \\\n",
    "                    precision_recall_curve, roc_curve, accuracy_score, precision_score, recall_score\n",
    "\n",
    "from src.data.color_mnist import color_dict_str\n",
    "\n",
    "# SELECT EXPERIMENT CONFIG (see experiments/configs/)\n",
    "from experiments.configs.fmnist_cls_ens import get_config\n",
    "\n",
    "import torch"
   ]
  },
  {
   "cell_type": "code",
   "execution_count": 2,
   "metadata": {},
   "outputs": [],
   "source": [
    "os.environ['XLA_FLAGS'] = \"--xla_gpu_force_compilation_parallelism=1\""
   ]
  },
  {
   "cell_type": "code",
   "execution_count": 3,
   "metadata": {},
   "outputs": [
    {
     "name": "stderr",
     "output_type": "stream",
     "text": [
      "\u001b[34m\u001b[1mwandb\u001b[0m: \u001b[33mWARNING\u001b[0m WANDB_NOTEBOOK_NAME should be a path to a notebook file, couldn't find fmnist_conditional_monotonicity.ipynb.\n",
      "\u001b[34m\u001b[1mwandb\u001b[0m: Currently logged in as: \u001b[33mmetodj\u001b[0m. Use \u001b[1m`wandb login --relogin`\u001b[0m to force relogin\n"
     ]
    },
    {
     "data": {
      "text/plain": [
       "True"
      ]
     },
     "execution_count": 3,
     "metadata": {},
     "output_type": "execute_result"
    }
   ],
   "source": [
    "os.environ['WANDB_NOTEBOOK_NAME'] = 'fmnist_conditional_monotonicity.ipynb'\n",
    "# ^ W&B doesn't know how to handle VS Code notebooks.\n",
    "\n",
    "wandb.login()"
   ]
  },
  {
   "cell_type": "code",
   "execution_count": null,
   "metadata": {},
   "outputs": [],
   "source": []
  },
  {
   "cell_type": "code",
   "execution_count": 4,
   "metadata": {},
   "outputs": [],
   "source": [
    "config = get_config()"
   ]
  },
  {
   "cell_type": "code",
   "execution_count": 5,
   "metadata": {},
   "outputs": [],
   "source": [
    "train_dataset, test_dataset, val_dataset = get_image_dataset(\n",
    "    dataset_name=config.dataset_name,\n",
    "    val_percent=config.val_percent,\n",
    "    flatten_img=True,\n",
    "    train_augmentations=[\n",
    "        # transforms.RandomCrop(28, padding=2),\n",
    "        # transforms.RandomAffine(degrees=5, translate=(0.05, 0.05), scale=(0.95, 1.05), shear=5),\n",
    "        # transforms.RandomHorizontalFlip(),\n",
    "        # transforms.\n",
    "    ]\n",
    ")\n",
    "\n",
    "train_loader = NumpyLoader(train_dataset, config.batch_size, num_workers=8)\n",
    "val_loader = NumpyLoader(val_dataset, config.batch_size, num_workers=8)\n",
    "test_loader = NumpyLoader(test_dataset, config.batch_size, num_workers=8)\n",
    "\n",
    "\n",
    "X_test, y_test = list(zip(*test_loader.dataset))"
   ]
  },
  {
   "cell_type": "code",
   "execution_count": 6,
   "metadata": {},
   "outputs": [
    {
     "name": "stdout",
     "output_type": "stream",
     "text": [
      "+---------------------------------------------+------------+--------+-----------+--------+\n",
      "| Name                                        | Shape      | Size   | Mean      | Std    |\n",
      "+---------------------------------------------+------------+--------+-----------+--------+\n",
      "| batch_stats/nets_0/layer_0/BatchNorm_0/mean | (100,)     | 100    | 0.0       | 0.0    |\n",
      "| batch_stats/nets_0/layer_0/BatchNorm_0/var  | (100,)     | 100    | 1.0       | 0.0    |\n",
      "| batch_stats/nets_0/layer_1/BatchNorm_0/mean | (100,)     | 100    | 0.0       | 0.0    |\n",
      "| batch_stats/nets_0/layer_1/BatchNorm_0/var  | (100,)     | 100    | 1.0       | 0.0    |\n",
      "| batch_stats/nets_0/layer_2/BatchNorm_0/mean | (100,)     | 100    | 0.0       | 0.0    |\n",
      "| batch_stats/nets_0/layer_2/BatchNorm_0/var  | (100,)     | 100    | 1.0       | 0.0    |\n",
      "| batch_stats/nets_1/layer_0/BatchNorm_0/mean | (100,)     | 100    | 0.0       | 0.0    |\n",
      "| batch_stats/nets_1/layer_0/BatchNorm_0/var  | (100,)     | 100    | 1.0       | 0.0    |\n",
      "| batch_stats/nets_1/layer_1/BatchNorm_0/mean | (100,)     | 100    | 0.0       | 0.0    |\n",
      "| batch_stats/nets_1/layer_1/BatchNorm_0/var  | (100,)     | 100    | 1.0       | 0.0    |\n",
      "| batch_stats/nets_1/layer_2/BatchNorm_0/mean | (100,)     | 100    | 0.0       | 0.0    |\n",
      "| batch_stats/nets_1/layer_2/BatchNorm_0/var  | (100,)     | 100    | 1.0       | 0.0    |\n",
      "| batch_stats/nets_2/layer_0/BatchNorm_0/mean | (100,)     | 100    | 0.0       | 0.0    |\n",
      "| batch_stats/nets_2/layer_0/BatchNorm_0/var  | (100,)     | 100    | 1.0       | 0.0    |\n",
      "| batch_stats/nets_2/layer_1/BatchNorm_0/mean | (100,)     | 100    | 0.0       | 0.0    |\n",
      "| batch_stats/nets_2/layer_1/BatchNorm_0/var  | (100,)     | 100    | 1.0       | 0.0    |\n",
      "| batch_stats/nets_2/layer_2/BatchNorm_0/mean | (100,)     | 100    | 0.0       | 0.0    |\n",
      "| batch_stats/nets_2/layer_2/BatchNorm_0/var  | (100,)     | 100    | 1.0       | 0.0    |\n",
      "| batch_stats/nets_3/layer_0/BatchNorm_0/mean | (100,)     | 100    | 0.0       | 0.0    |\n",
      "| batch_stats/nets_3/layer_0/BatchNorm_0/var  | (100,)     | 100    | 1.0       | 0.0    |\n",
      "| batch_stats/nets_3/layer_1/BatchNorm_0/mean | (100,)     | 100    | 0.0       | 0.0    |\n",
      "| batch_stats/nets_3/layer_1/BatchNorm_0/var  | (100,)     | 100    | 1.0       | 0.0    |\n",
      "| batch_stats/nets_3/layer_2/BatchNorm_0/mean | (100,)     | 100    | 0.0       | 0.0    |\n",
      "| batch_stats/nets_3/layer_2/BatchNorm_0/var  | (100,)     | 100    | 1.0       | 0.0    |\n",
      "| batch_stats/nets_4/layer_0/BatchNorm_0/mean | (100,)     | 100    | 0.0       | 0.0    |\n",
      "| batch_stats/nets_4/layer_0/BatchNorm_0/var  | (100,)     | 100    | 1.0       | 0.0    |\n",
      "| batch_stats/nets_4/layer_1/BatchNorm_0/mean | (100,)     | 100    | 0.0       | 0.0    |\n",
      "| batch_stats/nets_4/layer_1/BatchNorm_0/var  | (100,)     | 100    | 1.0       | 0.0    |\n",
      "| batch_stats/nets_4/layer_2/BatchNorm_0/mean | (100,)     | 100    | 0.0       | 0.0    |\n",
      "| batch_stats/nets_4/layer_2/BatchNorm_0/var  | (100,)     | 100    | 1.0       | 0.0    |\n",
      "| params/nets_0/input_layer/bias              | (100,)     | 100    | -0.0436   | 0.605  |\n",
      "| params/nets_0/input_layer/kernel            | (784, 100) | 78,400 | -1.39e-05 | 0.0206 |\n",
      "| params/nets_0/layer_0/BatchNorm_0/bias      | (100,)     | 100    | 0.0       | 0.0    |\n",
      "| params/nets_0/layer_0/BatchNorm_0/scale     | (100,)     | 100    | 1.0       | 0.0    |\n",
      "| params/nets_0/layer_0/Dense_0/bias          | (100,)     | 100    | -0.0726   | 0.619  |\n",
      "| params/nets_0/layer_0/Dense_0/kernel        | (100, 100) | 10,000 | 0.000147  | 0.0575 |\n",
      "| params/nets_0/layer_1/BatchNorm_0/bias      | (100,)     | 100    | 0.0       | 0.0    |\n",
      "| params/nets_0/layer_1/BatchNorm_0/scale     | (100,)     | 100    | 1.0       | 0.0    |\n",
      "| params/nets_0/layer_1/Dense_0/bias          | (100,)     | 100    | -0.0269   | 0.603  |\n",
      "| params/nets_0/layer_1/Dense_0/kernel        | (100, 100) | 10,000 | -0.000511 | 0.0575 |\n",
      "| params/nets_0/layer_2/BatchNorm_0/bias      | (100,)     | 100    | 0.0       | 0.0    |\n",
      "| params/nets_0/layer_2/BatchNorm_0/scale     | (100,)     | 100    | 1.0       | 0.0    |\n",
      "| params/nets_0/layer_2/Dense_0/bias          | (100,)     | 100    | -0.112    | 0.636  |\n",
      "| params/nets_0/layer_2/Dense_0/kernel        | (100, 100) | 10,000 | -0.00056  | 0.0576 |\n",
      "| params/nets_0/output_layer/bias             | (10,)      | 10     | -0.14     | 0.463  |\n",
      "| params/nets_0/output_layer/kernel           | (100, 10)  | 1,000  | 0.000121  | 0.0574 |\n",
      "| params/nets_1/input_layer/bias              | (100,)     | 100    | 0.106     | 0.544  |\n",
      "| params/nets_1/input_layer/kernel            | (784, 100) | 78,400 | 1.05e-05  | 0.0206 |\n",
      "| params/nets_1/layer_0/BatchNorm_0/bias      | (100,)     | 100    | 0.0       | 0.0    |\n",
      "| params/nets_1/layer_0/BatchNorm_0/scale     | (100,)     | 100    | 1.0       | 0.0    |\n",
      "| params/nets_1/layer_0/Dense_0/bias          | (100,)     | 100    | 0.0703    | 0.582  |\n",
      "| params/nets_1/layer_0/Dense_0/kernel        | (100, 100) | 10,000 | 0.000123  | 0.0575 |\n",
      "| params/nets_1/layer_1/BatchNorm_0/bias      | (100,)     | 100    | 0.0       | 0.0    |\n",
      "| params/nets_1/layer_1/BatchNorm_0/scale     | (100,)     | 100    | 1.0       | 0.0    |\n",
      "| params/nets_1/layer_1/Dense_0/bias          | (100,)     | 100    | -0.12     | 0.587  |\n",
      "| params/nets_1/layer_1/Dense_0/kernel        | (100, 100) | 10,000 | 0.000546  | 0.0575 |\n",
      "| params/nets_1/layer_2/BatchNorm_0/bias      | (100,)     | 100    | 0.0       | 0.0    |\n",
      "| params/nets_1/layer_2/BatchNorm_0/scale     | (100,)     | 100    | 1.0       | 0.0    |\n",
      "| params/nets_1/layer_2/Dense_0/bias          | (100,)     | 100    | -0.093    | 0.519  |\n",
      "| params/nets_1/layer_2/Dense_0/kernel        | (100, 100) | 10,000 | 0.000331  | 0.0577 |\n",
      "| params/nets_1/output_layer/bias             | (10,)      | 10     | -0.0679   | 0.455  |\n",
      "| params/nets_1/output_layer/kernel           | (100, 10)  | 1,000  | -0.00249  | 0.0569 |\n",
      "| params/nets_2/input_layer/bias              | (100,)     | 100    | 0.0861    | 0.577  |\n",
      "| params/nets_2/input_layer/kernel            | (784, 100) | 78,400 | -1.89e-05 | 0.0206 |\n",
      "| params/nets_2/layer_0/BatchNorm_0/bias      | (100,)     | 100    | 0.0       | 0.0    |\n",
      "| params/nets_2/layer_0/BatchNorm_0/scale     | (100,)     | 100    | 1.0       | 0.0    |\n",
      "| params/nets_2/layer_0/Dense_0/bias          | (100,)     | 100    | 0.0773    | 0.578  |\n",
      "| params/nets_2/layer_0/Dense_0/kernel        | (100, 100) | 10,000 | -0.000543 | 0.0579 |\n",
      "| params/nets_2/layer_1/BatchNorm_0/bias      | (100,)     | 100    | 0.0       | 0.0    |\n",
      "| params/nets_2/layer_1/BatchNorm_0/scale     | (100,)     | 100    | 1.0       | 0.0    |\n",
      "| params/nets_2/layer_1/Dense_0/bias          | (100,)     | 100    | 0.112     | 0.576  |\n",
      "| params/nets_2/layer_1/Dense_0/kernel        | (100, 100) | 10,000 | -0.000392 | 0.0576 |\n",
      "| params/nets_2/layer_2/BatchNorm_0/bias      | (100,)     | 100    | 0.0       | 0.0    |\n",
      "| params/nets_2/layer_2/BatchNorm_0/scale     | (100,)     | 100    | 1.0       | 0.0    |\n",
      "| params/nets_2/layer_2/Dense_0/bias          | (100,)     | 100    | 0.041     | 0.54   |\n",
      "| params/nets_2/layer_2/Dense_0/kernel        | (100, 100) | 10,000 | -0.000683 | 0.0576 |\n",
      "| params/nets_2/output_layer/bias             | (10,)      | 10     | 0.155     | 0.624  |\n",
      "| params/nets_2/output_layer/kernel           | (100, 10)  | 1,000  | -7.42e-05 | 0.0568 |\n",
      "| params/nets_3/input_layer/bias              | (100,)     | 100    | -0.0255   | 0.609  |\n",
      "| params/nets_3/input_layer/kernel            | (784, 100) | 78,400 | 3.13e-05  | 0.0207 |\n",
      "| params/nets_3/layer_0/BatchNorm_0/bias      | (100,)     | 100    | 0.0       | 0.0    |\n",
      "| params/nets_3/layer_0/BatchNorm_0/scale     | (100,)     | 100    | 1.0       | 0.0    |\n",
      "| params/nets_3/layer_0/Dense_0/bias          | (100,)     | 100    | -0.0437   | 0.576  |\n",
      "| params/nets_3/layer_0/Dense_0/kernel        | (100, 100) | 10,000 | 0.000384  | 0.0577 |\n",
      "| params/nets_3/layer_1/BatchNorm_0/bias      | (100,)     | 100    | 0.0       | 0.0    |\n",
      "| params/nets_3/layer_1/BatchNorm_0/scale     | (100,)     | 100    | 1.0       | 0.0    |\n",
      "| params/nets_3/layer_1/Dense_0/bias          | (100,)     | 100    | 0.0771    | 0.589  |\n",
      "| params/nets_3/layer_1/Dense_0/kernel        | (100, 100) | 10,000 | 0.000774  | 0.0572 |\n",
      "| params/nets_3/layer_2/BatchNorm_0/bias      | (100,)     | 100    | 0.0       | 0.0    |\n",
      "| params/nets_3/layer_2/BatchNorm_0/scale     | (100,)     | 100    | 1.0       | 0.0    |\n",
      "| params/nets_3/layer_2/Dense_0/bias          | (100,)     | 100    | -0.0229   | 0.573  |\n",
      "| params/nets_3/layer_2/Dense_0/kernel        | (100, 100) | 10,000 | 5.31e-05  | 0.0575 |\n",
      "| params/nets_3/output_layer/bias             | (10,)      | 10     | -0.383    | 0.404  |\n",
      "| params/nets_3/output_layer/kernel           | (100, 10)  | 1,000  | 0.00302   | 0.0581 |\n",
      "| params/nets_4/input_layer/bias              | (100,)     | 100    | -0.0867   | 0.588  |\n",
      "| params/nets_4/input_layer/kernel            | (784, 100) | 78,400 | -7.48e-05 | 0.0206 |\n",
      "| params/nets_4/layer_0/BatchNorm_0/bias      | (100,)     | 100    | 0.0       | 0.0    |\n",
      "| params/nets_4/layer_0/BatchNorm_0/scale     | (100,)     | 100    | 1.0       | 0.0    |\n",
      "| params/nets_4/layer_0/Dense_0/bias          | (100,)     | 100    | 0.00748   | 0.558  |\n",
      "| params/nets_4/layer_0/Dense_0/kernel        | (100, 100) | 10,000 | -0.000229 | 0.0577 |\n",
      "| params/nets_4/layer_1/BatchNorm_0/bias      | (100,)     | 100    | 0.0       | 0.0    |\n",
      "| params/nets_4/layer_1/BatchNorm_0/scale     | (100,)     | 100    | 1.0       | 0.0    |\n",
      "| params/nets_4/layer_1/Dense_0/bias          | (100,)     | 100    | 0.0202    | 0.61   |\n",
      "| params/nets_4/layer_1/Dense_0/kernel        | (100, 100) | 10,000 | -0.000423 | 0.0581 |\n",
      "| params/nets_4/layer_2/BatchNorm_0/bias      | (100,)     | 100    | 0.0       | 0.0    |\n",
      "| params/nets_4/layer_2/BatchNorm_0/scale     | (100,)     | 100    | 1.0       | 0.0    |\n",
      "| params/nets_4/layer_2/Dense_0/bias          | (100,)     | 100    | 0.02      | 0.596  |\n",
      "| params/nets_4/layer_2/Dense_0/kernel        | (100, 100) | 10,000 | 4.06e-05  | 0.0576 |\n",
      "| params/nets_4/output_layer/bias             | (10,)      | 10     | 0.0446    | 0.513  |\n",
      "| params/nets_4/output_layer/kernel           | (100, 10)  | 1,000  | -0.000667 | 0.0574 |\n",
      "| params/weights                              | (5,)       | 5      | 1.0       | 0.0    |\n",
      "+---------------------------------------------+------------+--------+-----------+--------+\n",
      "Total: 555,055\n"
     ]
    }
   ],
   "source": [
    "RANDOM_SEED = 0\n",
    "\n",
    "rng = random.PRNGKey(RANDOM_SEED)\n",
    "setup_rng, rng = random.split(rng)\n",
    "init_x = train_dataset[0][0]\n",
    "init_y = train_dataset[0][1]\n",
    "\n",
    "model, state = setup_training(config, setup_rng, init_x, init_y)"
   ]
  },
  {
   "cell_type": "code",
   "execution_count": 7,
   "metadata": {},
   "outputs": [
    {
     "name": "stdout",
     "output_type": "stream",
     "text": [
      "+---------------------------------------------+------------+--------+-----------+--------+\n",
      "| Name                                        | Shape      | Size   | Mean      | Std    |\n",
      "+---------------------------------------------+------------+--------+-----------+--------+\n",
      "| batch_stats/nets_0/layer_0/BatchNorm_0/mean | (100,)     | 100    | 0.0       | 0.0    |\n",
      "| batch_stats/nets_0/layer_0/BatchNorm_0/var  | (100,)     | 100    | 1.0       | 0.0    |\n",
      "| batch_stats/nets_0/layer_1/BatchNorm_0/mean | (100,)     | 100    | 0.0       | 0.0    |\n",
      "| batch_stats/nets_0/layer_1/BatchNorm_0/var  | (100,)     | 100    | 1.0       | 0.0    |\n",
      "| batch_stats/nets_0/layer_2/BatchNorm_0/mean | (100,)     | 100    | 0.0       | 0.0    |\n",
      "| batch_stats/nets_0/layer_2/BatchNorm_0/var  | (100,)     | 100    | 1.0       | 0.0    |\n",
      "| batch_stats/nets_1/layer_0/BatchNorm_0/mean | (100,)     | 100    | 0.0       | 0.0    |\n",
      "| batch_stats/nets_1/layer_0/BatchNorm_0/var  | (100,)     | 100    | 1.0       | 0.0    |\n",
      "| batch_stats/nets_1/layer_1/BatchNorm_0/mean | (100,)     | 100    | 0.0       | 0.0    |\n",
      "| batch_stats/nets_1/layer_1/BatchNorm_0/var  | (100,)     | 100    | 1.0       | 0.0    |\n",
      "| batch_stats/nets_1/layer_2/BatchNorm_0/mean | (100,)     | 100    | 0.0       | 0.0    |\n",
      "| batch_stats/nets_1/layer_2/BatchNorm_0/var  | (100,)     | 100    | 1.0       | 0.0    |\n",
      "| batch_stats/nets_2/layer_0/BatchNorm_0/mean | (100,)     | 100    | 0.0       | 0.0    |\n",
      "| batch_stats/nets_2/layer_0/BatchNorm_0/var  | (100,)     | 100    | 1.0       | 0.0    |\n",
      "| batch_stats/nets_2/layer_1/BatchNorm_0/mean | (100,)     | 100    | 0.0       | 0.0    |\n",
      "| batch_stats/nets_2/layer_1/BatchNorm_0/var  | (100,)     | 100    | 1.0       | 0.0    |\n",
      "| batch_stats/nets_2/layer_2/BatchNorm_0/mean | (100,)     | 100    | 0.0       | 0.0    |\n",
      "| batch_stats/nets_2/layer_2/BatchNorm_0/var  | (100,)     | 100    | 1.0       | 0.0    |\n",
      "| batch_stats/nets_3/layer_0/BatchNorm_0/mean | (100,)     | 100    | 0.0       | 0.0    |\n",
      "| batch_stats/nets_3/layer_0/BatchNorm_0/var  | (100,)     | 100    | 1.0       | 0.0    |\n",
      "| batch_stats/nets_3/layer_1/BatchNorm_0/mean | (100,)     | 100    | 0.0       | 0.0    |\n",
      "| batch_stats/nets_3/layer_1/BatchNorm_0/var  | (100,)     | 100    | 1.0       | 0.0    |\n",
      "| batch_stats/nets_3/layer_2/BatchNorm_0/mean | (100,)     | 100    | 0.0       | 0.0    |\n",
      "| batch_stats/nets_3/layer_2/BatchNorm_0/var  | (100,)     | 100    | 1.0       | 0.0    |\n",
      "| batch_stats/nets_4/layer_0/BatchNorm_0/mean | (100,)     | 100    | 0.0       | 0.0    |\n",
      "| batch_stats/nets_4/layer_0/BatchNorm_0/var  | (100,)     | 100    | 1.0       | 0.0    |\n",
      "| batch_stats/nets_4/layer_1/BatchNorm_0/mean | (100,)     | 100    | 0.0       | 0.0    |\n",
      "| batch_stats/nets_4/layer_1/BatchNorm_0/var  | (100,)     | 100    | 1.0       | 0.0    |\n",
      "| batch_stats/nets_4/layer_2/BatchNorm_0/mean | (100,)     | 100    | 0.0       | 0.0    |\n",
      "| batch_stats/nets_4/layer_2/BatchNorm_0/var  | (100,)     | 100    | 1.0       | 0.0    |\n",
      "| params/nets_0/input_layer/bias              | (100,)     | 100    | -0.0436   | 0.605  |\n",
      "| params/nets_0/input_layer/kernel            | (784, 100) | 78,400 | -1.39e-05 | 0.0206 |\n",
      "| params/nets_0/layer_0/BatchNorm_0/bias      | (100,)     | 100    | 0.0       | 0.0    |\n",
      "| params/nets_0/layer_0/BatchNorm_0/scale     | (100,)     | 100    | 1.0       | 0.0    |\n",
      "| params/nets_0/layer_0/Dense_0/bias          | (100,)     | 100    | -0.0726   | 0.619  |\n",
      "| params/nets_0/layer_0/Dense_0/kernel        | (100, 100) | 10,000 | 0.000147  | 0.0575 |\n",
      "| params/nets_0/layer_1/BatchNorm_0/bias      | (100,)     | 100    | 0.0       | 0.0    |\n",
      "| params/nets_0/layer_1/BatchNorm_0/scale     | (100,)     | 100    | 1.0       | 0.0    |\n",
      "| params/nets_0/layer_1/Dense_0/bias          | (100,)     | 100    | -0.0269   | 0.603  |\n",
      "| params/nets_0/layer_1/Dense_0/kernel        | (100, 100) | 10,000 | -0.000511 | 0.0575 |\n",
      "| params/nets_0/layer_2/BatchNorm_0/bias      | (100,)     | 100    | 0.0       | 0.0    |\n",
      "| params/nets_0/layer_2/BatchNorm_0/scale     | (100,)     | 100    | 1.0       | 0.0    |\n",
      "| params/nets_0/layer_2/Dense_0/bias          | (100,)     | 100    | -0.112    | 0.636  |\n",
      "| params/nets_0/layer_2/Dense_0/kernel        | (100, 100) | 10,000 | -0.00056  | 0.0576 |\n",
      "| params/nets_0/output_layer/bias             | (10,)      | 10     | -0.14     | 0.463  |\n",
      "| params/nets_0/output_layer/kernel           | (100, 10)  | 1,000  | 0.000121  | 0.0574 |\n",
      "| params/nets_1/input_layer/bias              | (100,)     | 100    | 0.106     | 0.544  |\n",
      "| params/nets_1/input_layer/kernel            | (784, 100) | 78,400 | 1.05e-05  | 0.0206 |\n",
      "| params/nets_1/layer_0/BatchNorm_0/bias      | (100,)     | 100    | 0.0       | 0.0    |\n",
      "| params/nets_1/layer_0/BatchNorm_0/scale     | (100,)     | 100    | 1.0       | 0.0    |\n",
      "| params/nets_1/layer_0/Dense_0/bias          | (100,)     | 100    | 0.0703    | 0.582  |\n",
      "| params/nets_1/layer_0/Dense_0/kernel        | (100, 100) | 10,000 | 0.000123  | 0.0575 |\n",
      "| params/nets_1/layer_1/BatchNorm_0/bias      | (100,)     | 100    | 0.0       | 0.0    |\n",
      "| params/nets_1/layer_1/BatchNorm_0/scale     | (100,)     | 100    | 1.0       | 0.0    |\n",
      "| params/nets_1/layer_1/Dense_0/bias          | (100,)     | 100    | -0.12     | 0.587  |\n",
      "| params/nets_1/layer_1/Dense_0/kernel        | (100, 100) | 10,000 | 0.000546  | 0.0575 |\n",
      "| params/nets_1/layer_2/BatchNorm_0/bias      | (100,)     | 100    | 0.0       | 0.0    |\n",
      "| params/nets_1/layer_2/BatchNorm_0/scale     | (100,)     | 100    | 1.0       | 0.0    |\n",
      "| params/nets_1/layer_2/Dense_0/bias          | (100,)     | 100    | -0.093    | 0.519  |\n",
      "| params/nets_1/layer_2/Dense_0/kernel        | (100, 100) | 10,000 | 0.000331  | 0.0577 |\n",
      "| params/nets_1/output_layer/bias             | (10,)      | 10     | -0.0679   | 0.455  |\n",
      "| params/nets_1/output_layer/kernel           | (100, 10)  | 1,000  | -0.00249  | 0.0569 |\n",
      "| params/nets_2/input_layer/bias              | (100,)     | 100    | 0.0861    | 0.577  |\n",
      "| params/nets_2/input_layer/kernel            | (784, 100) | 78,400 | -1.89e-05 | 0.0206 |\n",
      "| params/nets_2/layer_0/BatchNorm_0/bias      | (100,)     | 100    | 0.0       | 0.0    |\n",
      "| params/nets_2/layer_0/BatchNorm_0/scale     | (100,)     | 100    | 1.0       | 0.0    |\n",
      "| params/nets_2/layer_0/Dense_0/bias          | (100,)     | 100    | 0.0773    | 0.578  |\n",
      "| params/nets_2/layer_0/Dense_0/kernel        | (100, 100) | 10,000 | -0.000543 | 0.0579 |\n",
      "| params/nets_2/layer_1/BatchNorm_0/bias      | (100,)     | 100    | 0.0       | 0.0    |\n",
      "| params/nets_2/layer_1/BatchNorm_0/scale     | (100,)     | 100    | 1.0       | 0.0    |\n",
      "| params/nets_2/layer_1/Dense_0/bias          | (100,)     | 100    | 0.112     | 0.576  |\n",
      "| params/nets_2/layer_1/Dense_0/kernel        | (100, 100) | 10,000 | -0.000392 | 0.0576 |\n",
      "| params/nets_2/layer_2/BatchNorm_0/bias      | (100,)     | 100    | 0.0       | 0.0    |\n",
      "| params/nets_2/layer_2/BatchNorm_0/scale     | (100,)     | 100    | 1.0       | 0.0    |\n",
      "| params/nets_2/layer_2/Dense_0/bias          | (100,)     | 100    | 0.041     | 0.54   |\n",
      "| params/nets_2/layer_2/Dense_0/kernel        | (100, 100) | 10,000 | -0.000683 | 0.0576 |\n",
      "| params/nets_2/output_layer/bias             | (10,)      | 10     | 0.155     | 0.624  |\n",
      "| params/nets_2/output_layer/kernel           | (100, 10)  | 1,000  | -7.42e-05 | 0.0568 |\n",
      "| params/nets_3/input_layer/bias              | (100,)     | 100    | -0.0255   | 0.609  |\n",
      "| params/nets_3/input_layer/kernel            | (784, 100) | 78,400 | 3.13e-05  | 0.0207 |\n",
      "| params/nets_3/layer_0/BatchNorm_0/bias      | (100,)     | 100    | 0.0       | 0.0    |\n",
      "| params/nets_3/layer_0/BatchNorm_0/scale     | (100,)     | 100    | 1.0       | 0.0    |\n",
      "| params/nets_3/layer_0/Dense_0/bias          | (100,)     | 100    | -0.0437   | 0.576  |\n",
      "| params/nets_3/layer_0/Dense_0/kernel        | (100, 100) | 10,000 | 0.000384  | 0.0577 |\n",
      "| params/nets_3/layer_1/BatchNorm_0/bias      | (100,)     | 100    | 0.0       | 0.0    |\n",
      "| params/nets_3/layer_1/BatchNorm_0/scale     | (100,)     | 100    | 1.0       | 0.0    |\n",
      "| params/nets_3/layer_1/Dense_0/bias          | (100,)     | 100    | 0.0771    | 0.589  |\n",
      "| params/nets_3/layer_1/Dense_0/kernel        | (100, 100) | 10,000 | 0.000774  | 0.0572 |\n",
      "| params/nets_3/layer_2/BatchNorm_0/bias      | (100,)     | 100    | 0.0       | 0.0    |\n",
      "| params/nets_3/layer_2/BatchNorm_0/scale     | (100,)     | 100    | 1.0       | 0.0    |\n",
      "| params/nets_3/layer_2/Dense_0/bias          | (100,)     | 100    | -0.0229   | 0.573  |\n",
      "| params/nets_3/layer_2/Dense_0/kernel        | (100, 100) | 10,000 | 5.31e-05  | 0.0575 |\n",
      "| params/nets_3/output_layer/bias             | (10,)      | 10     | -0.383    | 0.404  |\n",
      "| params/nets_3/output_layer/kernel           | (100, 10)  | 1,000  | 0.00302   | 0.0581 |\n",
      "| params/nets_4/input_layer/bias              | (100,)     | 100    | -0.0867   | 0.588  |\n",
      "| params/nets_4/input_layer/kernel            | (784, 100) | 78,400 | -7.48e-05 | 0.0206 |\n",
      "| params/nets_4/layer_0/BatchNorm_0/bias      | (100,)     | 100    | 0.0       | 0.0    |\n",
      "| params/nets_4/layer_0/BatchNorm_0/scale     | (100,)     | 100    | 1.0       | 0.0    |\n",
      "| params/nets_4/layer_0/Dense_0/bias          | (100,)     | 100    | 0.00748   | 0.558  |\n",
      "| params/nets_4/layer_0/Dense_0/kernel        | (100, 100) | 10,000 | -0.000229 | 0.0577 |\n",
      "| params/nets_4/layer_1/BatchNorm_0/bias      | (100,)     | 100    | 0.0       | 0.0    |\n",
      "| params/nets_4/layer_1/BatchNorm_0/scale     | (100,)     | 100    | 1.0       | 0.0    |\n",
      "| params/nets_4/layer_1/Dense_0/bias          | (100,)     | 100    | 0.0202    | 0.61   |\n",
      "| params/nets_4/layer_1/Dense_0/kernel        | (100, 100) | 10,000 | -0.000423 | 0.0581 |\n",
      "| params/nets_4/layer_2/BatchNorm_0/bias      | (100,)     | 100    | 0.0       | 0.0    |\n",
      "| params/nets_4/layer_2/BatchNorm_0/scale     | (100,)     | 100    | 1.0       | 0.0    |\n",
      "| params/nets_4/layer_2/Dense_0/bias          | (100,)     | 100    | 0.02      | 0.596  |\n",
      "| params/nets_4/layer_2/Dense_0/kernel        | (100, 100) | 10,000 | 4.06e-05  | 0.0576 |\n",
      "| params/nets_4/output_layer/bias             | (10,)      | 10     | 0.0446    | 0.513  |\n",
      "| params/nets_4/output_layer/kernel           | (100, 10)  | 1,000  | -0.000667 | 0.0574 |\n",
      "| params/weights                              | (5,)       | 5      | 1.0       | 0.0    |\n",
      "+---------------------------------------------+------------+--------+-----------+--------+\n",
      "Total: 555,055\n"
     ]
    },
    {
     "name": "stderr",
     "output_type": "stream",
     "text": [
      "2023-01-19 21:12:00.116052: E tensorflow/stream_executor/cuda/cuda_blas.cc:2981] Unable to register cuBLAS factory: Attempting to register factory for plugin cuBLAS when one has already been registered\n",
      "2023-01-19 21:12:00.693984: W tensorflow/stream_executor/platform/default/dso_loader.cc:64] Could not load dynamic library 'libnvinfer.so.7'; dlerror: libnvinfer.so.7: cannot open shared object file: No such file or directory\n",
      "2023-01-19 21:12:00.694076: W tensorflow/stream_executor/platform/default/dso_loader.cc:64] Could not load dynamic library 'libnvinfer_plugin.so.7'; dlerror: libnvinfer_plugin.so.7: cannot open shared object file: No such file or directory\n",
      "2023-01-19 21:12:00.694085: W tensorflow/compiler/tf2tensorrt/utils/py_utils.cc:38] TF-TRT Warning: Cannot dlopen some TensorRT libraries. If you would like to use Nvidia GPU with TensorRT, please make sure the missing libraries mentioned above are installed properly.\n"
     ]
    },
    {
     "data": {
      "text/html": [
       "wandb version 0.13.9 is available!  To upgrade, please run:\n",
       " $ pip install wandb --upgrade"
      ],
      "text/plain": [
       "<IPython.core.display.HTML object>"
      ]
     },
     "metadata": {},
     "output_type": "display_data"
    },
    {
     "data": {
      "text/html": [
       "Tracking run with wandb version 0.12.16"
      ],
      "text/plain": [
       "<IPython.core.display.HTML object>"
      ]
     },
     "metadata": {},
     "output_type": "display_data"
    },
    {
     "data": {
      "text/html": [
       "Run data is saved locally in <code>/home/metod/Desktop/PhD/year1/PoE/anytime-poe/experiments/notebooks/wandb/run-20230119_211158-3c8m7qum</code>"
      ],
      "text/plain": [
       "<IPython.core.display.HTML object>"
      ]
     },
     "metadata": {},
     "output_type": "display_data"
    },
    {
     "data": {
      "text/html": [
       "Syncing run <strong><a href=\"https://wandb.ai/metodj/anytime-poe/runs/3c8m7qum\" target=\"_blank\">gentle-sea-356</a></strong> to <a href=\"https://wandb.ai/metodj/anytime-poe\" target=\"_blank\">Weights & Biases</a> (<a href=\"https://wandb.me/run\" target=\"_blank\">docs</a>)<br/>"
      ],
      "text/plain": [
       "<IPython.core.display.HTML object>"
      ]
     },
     "metadata": {},
     "output_type": "display_data"
    },
    {
     "data": {
      "application/json": {
       "ascii": false,
       "bar_format": null,
       "colour": null,
       "elapsed": 0.025269269943237305,
       "initial": 0,
       "n": 0,
       "ncols": null,
       "nrows": null,
       "postfix": null,
       "prefix": "",
       "rate": null,
       "total": 50,
       "unit": "it",
       "unit_divisor": 1000,
       "unit_scale": false
      },
      "application/vnd.jupyter.widget-view+json": {
       "model_id": "1a950fcec27840bf9c1c7cb23d674785",
       "version_major": 2,
       "version_minor": 0
      },
      "text/plain": [
       "  0%|          | 0/50 [00:00<?, ?it/s]"
      ]
     },
     "metadata": {},
     "output_type": "display_data"
    },
    {
     "name": "stdout",
     "output_type": "stream",
     "text": [
      "epoch:   1 - ('train loss: 0.97770, val loss: 0.63057, train err: 0.2848, val err: 0.2048, lr: 0.00360, prod_nll: 1.00000', ', members_nll: -0.97770')\n",
      "Best val_err\n",
      "epoch:   2 - ('train loss: 0.57396, val loss: 0.52850, train err: 0.1813, val err: 0.1713, lr: 0.00420, prod_nll: 1.00000', ', members_nll: -0.57396')\n",
      "Best val_err\n",
      "epoch:   3 - ('train loss: 0.50078, val loss: 0.48277, train err: 0.1617, val err: 0.1593, lr: 0.00480, prod_nll: 1.00000', ', members_nll: -0.50078')\n",
      "Best val_err\n",
      "epoch:   4 - ('train loss: 0.46056, val loss: 0.46835, train err: 0.1491, val err: 0.1540, lr: 0.00540, prod_nll: 1.00000', ', members_nll: -0.46056')\n",
      "Best val_err\n",
      "epoch:   5 - ('train loss: 0.43469, val loss: 0.43747, train err: 0.1414, val err: 0.1432, lr: 0.00600, prod_nll: 1.00000', ', members_nll: -0.43469')\n",
      "Best val_err\n",
      "epoch:   6 - ('train loss: 0.41186, val loss: 0.43678, train err: 0.1336, val err: 0.1382, lr: 0.00660, prod_nll: 1.00000', ', members_nll: -0.41186')\n",
      "Best val_err\n",
      "epoch:   7 - ('train loss: 0.39613, val loss: 0.40841, train err: 0.1296, val err: 0.1342, lr: 0.00720, prod_nll: 1.00000', ', members_nll: -0.39613')\n",
      "Best val_err\n",
      "epoch:   8 - ('train loss: 0.38102, val loss: 0.41603, train err: 0.1234, val err: 0.1327, lr: 0.00780, prod_nll: 1.00000', ', members_nll: -0.38102')\n",
      "Best val_err\n",
      "epoch:   9 - ('train loss: 0.36812, val loss: 0.41171, train err: 0.1194, val err: 0.1315, lr: 0.00840, prod_nll: 1.00000', ', members_nll: -0.36812')\n",
      "Best val_err\n",
      "epoch:  10 - ('train loss: 0.35921, val loss: 0.38884, train err: 0.1161, val err: 0.1255, lr: 0.00900, prod_nll: 1.00000', ', members_nll: -0.35921')\n",
      "Best val_err\n",
      "epoch:  11 - ('train loss: 0.34821, val loss: 0.38885, train err: 0.1128, val err: 0.1263, lr: 0.00899, prod_nll: 1.00000', ', members_nll: -0.34821')\n",
      "epoch:  12 - ('train loss: 0.34164, val loss: 0.36208, train err: 0.1101, val err: 0.1218, lr: 0.00895, prod_nll: 1.00000', ', members_nll: -0.34164')\n",
      "Best val_err\n",
      "epoch:  13 - ('train loss: 0.33085, val loss: 0.36018, train err: 0.1065, val err: 0.1193, lr: 0.00888, prod_nll: 1.00000', ', members_nll: -0.33085')\n",
      "Best val_err\n",
      "epoch:  14 - ('train loss: 0.32320, val loss: 0.35740, train err: 0.1039, val err: 0.1185, lr: 0.00879, prod_nll: 1.00000', ', members_nll: -0.32320')\n",
      "Best val_err\n",
      "epoch:  15 - ('train loss: 0.31639, val loss: 0.36196, train err: 0.1019, val err: 0.1225, lr: 0.00867, prod_nll: 1.00000', ', members_nll: -0.31639')\n",
      "epoch:  16 - ('train loss: 0.30996, val loss: 0.34894, train err: 0.0996, val err: 0.1160, lr: 0.00853, prod_nll: 1.00000', ', members_nll: -0.30996')\n",
      "Best val_err\n",
      "epoch:  17 - ('train loss: 0.30593, val loss: 0.35270, train err: 0.0987, val err: 0.1153, lr: 0.00836, prod_nll: 1.00000', ', members_nll: -0.30593')\n",
      "Best val_err\n",
      "epoch:  18 - ('train loss: 0.29863, val loss: 0.35087, train err: 0.0957, val err: 0.1158, lr: 0.00817, prod_nll: 1.00000', ', members_nll: -0.29863')\n",
      "epoch:  19 - ('train loss: 0.29497, val loss: 0.34880, train err: 0.0935, val err: 0.1145, lr: 0.00796, prod_nll: 1.00000', ', members_nll: -0.29497')\n",
      "Best val_err\n",
      "epoch:  20 - ('train loss: 0.29063, val loss: 0.35997, train err: 0.0917, val err: 0.1162, lr: 0.00773, prod_nll: 1.00000', ', members_nll: -0.29063')\n",
      "epoch:  21 - ('train loss: 0.28501, val loss: 0.34585, train err: 0.0897, val err: 0.1133, lr: 0.00748, prod_nll: 1.00000', ', members_nll: -0.28501')\n",
      "Best val_err\n",
      "epoch:  22 - ('train loss: 0.27980, val loss: 0.36728, train err: 0.0887, val err: 0.1123, lr: 0.00721, prod_nll: 1.00000', ', members_nll: -0.27980')\n",
      "Best val_err\n",
      "epoch:  23 - ('train loss: 0.27779, val loss: 0.37654, train err: 0.0875, val err: 0.1115, lr: 0.00692, prod_nll: 1.00000', ', members_nll: -0.27779')\n",
      "Best val_err\n",
      "epoch:  24 - ('train loss: 0.27246, val loss: 0.36321, train err: 0.0852, val err: 0.1123, lr: 0.00662, prod_nll: 1.00000', ', members_nll: -0.27246')\n",
      "epoch:  25 - ('train loss: 0.26907, val loss: 0.33330, train err: 0.0836, val err: 0.1127, lr: 0.00631, prod_nll: 1.00000', ', members_nll: -0.26907')\n",
      "epoch:  26 - ('train loss: 0.26670, val loss: 0.32937, train err: 0.0832, val err: 0.1102, lr: 0.00599, prod_nll: 1.00000', ', members_nll: -0.26670')\n",
      "Best val_err\n",
      "epoch:  27 - ('train loss: 0.26314, val loss: 0.33055, train err: 0.0811, val err: 0.1103, lr: 0.00567, prod_nll: 1.00000', ', members_nll: -0.26314')\n",
      "epoch:  28 - ('train loss: 0.25917, val loss: 0.32691, train err: 0.0792, val err: 0.1078, lr: 0.00533, prod_nll: 1.00000', ', members_nll: -0.25917')\n",
      "Best val_err\n",
      "epoch:  29 - ('train loss: 0.25735, val loss: 0.32782, train err: 0.0797, val err: 0.1085, lr: 0.00499, prod_nll: 1.00000', ', members_nll: -0.25735')\n",
      "epoch:  30 - ('train loss: 0.25402, val loss: 0.32532, train err: 0.0777, val err: 0.1095, lr: 0.00465, prod_nll: 1.00000', ', members_nll: -0.25402')\n",
      "epoch:  31 - ('train loss: 0.25201, val loss: 0.32509, train err: 0.0771, val err: 0.1058, lr: 0.00431, prod_nll: 1.00000', ', members_nll: -0.25201')\n",
      "Best val_err\n",
      "epoch:  32 - ('train loss: 0.24835, val loss: 0.32320, train err: 0.0761, val err: 0.1070, lr: 0.00397, prod_nll: 1.00000', ', members_nll: -0.24835')\n",
      "epoch:  33 - ('train loss: 0.24727, val loss: 0.32212, train err: 0.0749, val err: 0.1065, lr: 0.00363, prod_nll: 1.00000', ', members_nll: -0.24727')\n",
      "epoch:  34 - ('train loss: 0.24453, val loss: 0.32278, train err: 0.0744, val err: 0.1067, lr: 0.00331, prod_nll: 1.00000', ', members_nll: -0.24453')\n",
      "epoch:  35 - ('train loss: 0.24155, val loss: 0.32024, train err: 0.0725, val err: 0.1058, lr: 0.00299, prod_nll: 1.00000', ', members_nll: -0.24155')\n",
      "Best val_err\n",
      "epoch:  36 - ('train loss: 0.24087, val loss: 0.32063, train err: 0.0719, val err: 0.1055, lr: 0.00268, prod_nll: 1.00000', ', members_nll: -0.24087')\n",
      "Best val_err\n",
      "epoch:  37 - ('train loss: 0.23809, val loss: 0.31867, train err: 0.0718, val err: 0.1065, lr: 0.00238, prod_nll: 1.00000', ', members_nll: -0.23809')\n",
      "epoch:  38 - ('train loss: 0.23746, val loss: 0.31887, train err: 0.0707, val err: 0.1057, lr: 0.00209, prod_nll: 1.00000', ', members_nll: -0.23746')\n",
      "epoch:  39 - ('train loss: 0.23438, val loss: 0.31916, train err: 0.0703, val err: 0.1058, lr: 0.00182, prod_nll: 1.00000', ', members_nll: -0.23438')\n",
      "epoch:  40 - ('train loss: 0.23391, val loss: 0.31809, train err: 0.0705, val err: 0.1053, lr: 0.00157, prod_nll: 1.00000', ', members_nll: -0.23391')\n",
      "Best val_err\n",
      "epoch:  41 - ('train loss: 0.23181, val loss: 0.31853, train err: 0.0686, val err: 0.1043, lr: 0.00134, prod_nll: 1.00000', ', members_nll: -0.23181')\n",
      "Best val_err\n",
      "epoch:  42 - ('train loss: 0.23164, val loss: 0.31891, train err: 0.0688, val err: 0.1045, lr: 0.00113, prod_nll: 1.00000', ', members_nll: -0.23164')\n",
      "epoch:  43 - ('train loss: 0.23073, val loss: 0.31933, train err: 0.0686, val err: 0.1035, lr: 0.00094, prod_nll: 1.00000', ', members_nll: -0.23073')\n",
      "Best val_err\n",
      "epoch:  44 - ('train loss: 0.23031, val loss: 0.31887, train err: 0.0676, val err: 0.1028, lr: 0.00077, prod_nll: 1.00000', ', members_nll: -0.23031')\n",
      "Best val_err\n",
      "epoch:  45 - ('train loss: 0.22907, val loss: 0.31846, train err: 0.0675, val err: 0.1037, lr: 0.00063, prod_nll: 1.00000', ', members_nll: -0.22907')\n",
      "epoch:  46 - ('train loss: 0.22857, val loss: 0.31893, train err: 0.0676, val err: 0.1032, lr: 0.00051, prod_nll: 1.00000', ', members_nll: -0.22857')\n",
      "epoch:  47 - ('train loss: 0.22751, val loss: 0.31878, train err: 0.0675, val err: 0.1033, lr: 0.00042, prod_nll: 1.00000', ', members_nll: -0.22751')\n",
      "epoch:  48 - ('train loss: 0.22737, val loss: 0.31909, train err: 0.0666, val err: 0.1037, lr: 0.00035, prod_nll: 1.00000', ', members_nll: -0.22737')\n",
      "epoch:  49 - ('train loss: 0.22798, val loss: 0.31891, train err: 0.0678, val err: 0.1035, lr: 0.00031, prod_nll: 1.00000', ', members_nll: -0.22798')\n",
      "epoch:  50 - ('train loss: 0.22655, val loss: 0.31911, train err: 0.0663, val err: 0.1040, lr: 0.00030, prod_nll: 1.00000', ', members_nll: -0.22655')\n"
     ]
    },
    {
     "data": {
      "text/html": [
       "Waiting for W&B process to finish... <strong style=\"color:green\">(success).</strong>"
      ],
      "text/plain": [
       "<IPython.core.display.HTML object>"
      ]
     },
     "metadata": {},
     "output_type": "display_data"
    },
    {
     "data": {
      "application/vnd.jupyter.widget-view+json": {
       "model_id": "d52bb8c1b5504558a24b22dd6a298295",
       "version_major": 2,
       "version_minor": 0
      },
      "text/plain": [
       "VBox(children=(Label(value='0.001 MB of 0.001 MB uploaded (0.000 MB deduped)\\r'), FloatProgress(value=1.0, max…"
      ]
     },
     "metadata": {},
     "output_type": "display_data"
    },
    {
     "data": {
      "text/html": [
       "<style>\n",
       "    table.wandb td:nth-child(1) { padding: 0 10px; text-align: left ; width: auto;} td:nth-child(2) {text-align: left ; width: 100%}\n",
       "    .wandb-row { display: flex; flex-direction: row; flex-wrap: wrap; justify-content: flex-start; width: 100% }\n",
       "    .wandb-col { display: flex; flex-direction: column; flex-basis: 100%; flex: 1; padding: 10px; }\n",
       "    </style>\n",
       "<div class=\"wandb-row\"><div class=\"wandb-col\"><h3>Run history:</h3><br/><table class=\"wandb\"><tr><td>epoch</td><td>▁▁▁▁▂▂▂▂▂▃▃▃▃▃▃▄▄▄▄▄▅▅▅▅▅▅▆▆▆▆▆▆▇▇▇▇▇███</td></tr><tr><td>learning_rate</td><td>▄▄▅▅▆▇▇██████▇▇▇▇▇▆▆▆▅▅▅▄▄▄▃▃▃▂▂▂▂▂▁▁▁▁▁</td></tr><tr><td>train/err</td><td>█▅▄▄▃▃▃▃▂▂▂▂▂▂▂▂▂▂▂▂▂▁▁▁▁▁▁▁▁▁▁▁▁▁▁▁▁▁▁▁</td></tr><tr><td>train/loss</td><td>█▄▄▃▃▃▂▂▂▂▂▂▂▂▂▂▂▁▁▁▁▁▁▁▁▁▁▁▁▁▁▁▁▁▁▁▁▁▁▁</td></tr><tr><td>train/members_nll</td><td>▁▅▅▆▆▆▇▇▇▇▇▇▇▇▇▇▇███████████████████████</td></tr><tr><td>train/nll_ratio</td><td>▁▅▅▆▆▆▇▇▇▇▇▇▇▇▇▇▇███████████████████████</td></tr><tr><td>train/prod_nll</td><td>▁▁▁▁▁▁▁▁▁▁▁▁▁▁▁▁▁▁▁▁▁▁▁▁▁▁▁▁▁▁▁▁▁▁▁▁▁▁▁▁</td></tr><tr><td>val/err</td><td>█▆▅▅▃▃▃▃▃▂▂▂▂▂▂▂▂▂▂▂▂▂▁▁▁▁▁▁▁▁▁▁▁▁▁▁▁▁▁▁</td></tr><tr><td>val/loss</td><td>█▆▅▄▄▃▃▃▃▂▂▂▂▂▂▂▂▂▂▂▁▁▁▁▁▁▁▁▁▁▁▁▁▁▁▁▁▁▁▁</td></tr></table><br/></div><div class=\"wandb-col\"><h3>Run summary:</h3><br/><table class=\"wandb\"><tr><td>best_epoch</td><td>44</td></tr><tr><td>best_val_err</td><td>0.10283</td></tr><tr><td>epoch</td><td>50</td></tr><tr><td>learning_rate</td><td>0.0003</td></tr><tr><td>train/err</td><td>0.06631</td></tr><tr><td>train/loss</td><td>0.22655</td></tr><tr><td>train/members_nll</td><td>-0.22655</td></tr><tr><td>train/nll_ratio</td><td>-0.22655</td></tr><tr><td>train/prod_nll</td><td>1.0</td></tr><tr><td>val/err</td><td>0.104</td></tr><tr><td>val/loss</td><td>0.31911</td></tr></table><br/></div></div>"
      ],
      "text/plain": [
       "<IPython.core.display.HTML object>"
      ]
     },
     "metadata": {},
     "output_type": "display_data"
    },
    {
     "data": {
      "text/html": [
       "Synced <strong style=\"color:#cdcd00\">gentle-sea-356</strong>: <a href=\"https://wandb.ai/metodj/anytime-poe/runs/3c8m7qum\" target=\"_blank\">https://wandb.ai/metodj/anytime-poe/runs/3c8m7qum</a><br/>Synced 5 W&B file(s), 0 media file(s), 0 artifact file(s) and 0 other file(s)"
      ],
      "text/plain": [
       "<IPython.core.display.HTML object>"
      ]
     },
     "metadata": {},
     "output_type": "display_data"
    },
    {
     "data": {
      "text/html": [
       "Find logs at: <code>./wandb/run-20230119_211158-3c8m7qum/logs</code>"
      ],
      "text/plain": [
       "<IPython.core.display.HTML object>"
      ]
     },
     "metadata": {},
     "output_type": "display_data"
    },
    {
     "data": {
      "text/plain": [
       "'monotonicity/ens_model_0_softmax/checkpoint_1'"
      ]
     },
     "execution_count": 7,
     "metadata": {},
     "output_type": "execute_result"
    }
   ],
   "source": [
    "_, state = train_loop(\n",
    "    model, state, config, rng, make_ens_loss, make_ens_loss, train_loader, val_loader,\n",
    "    # test_loader,\n",
    "    wandb_kwargs={\n",
    "        'mode': 'online',\n",
    "        # 'notes': 'Data augmentation',\n",
    "        # 'tags': ['MNIST testing'],\n",
    "    },\n",
    "    # plot_fn=make_plots,\n",
    "    # plot_freq=1,\n",
    ")\n",
    "\n",
    "model_name = f\"monotonicity/ens_model_{RANDOM_SEED}_{config.model.ll_type}\"\n",
    "save_checkpoint(model_name, state, 1, overwrite=True)\n",
    "\n",
    "    "
   ]
  },
  {
   "cell_type": "code",
   "execution_count": 8,
   "metadata": {},
   "outputs": [
    {
     "name": "stdout",
     "output_type": "stream",
     "text": [
      "ens_model_0_softmax\n"
     ]
    }
   ],
   "source": [
    "df = metrics_df_by_name([\"ens_model_0_softmax\"], X_test, y_test, model, model, model_folder=\"monotonicity\")"
   ]
  },
  {
   "cell_type": "code",
   "execution_count": 11,
   "metadata": {},
   "outputs": [
    {
     "data": {
      "text/plain": [
       "model_name           n_members\n",
       "ens_model_0_softmax  1            0.11824\n",
       "                     2            0.11269\n",
       "                     3            0.11086\n",
       "                     4            0.10942\n",
       "                     5            0.10870\n",
       "Name: mean, dtype: float64"
      ]
     },
     "execution_count": 11,
     "metadata": {},
     "output_type": "execute_result"
    }
   ],
   "source": [
    "df[\"err\"][\"mean\"]"
   ]
  },
  {
   "cell_type": "code",
   "execution_count": 7,
   "metadata": {},
   "outputs": [],
   "source": [
    "MODEL_NAME = \"ens_model_0_softmax\"\n",
    "\n",
    "state = restore_checkpoint(f'monotonicity/{MODEL_NAME}', 1)\n",
    "    \n",
    "pred_fun = partial(\n",
    "        model.apply,\n",
    "        {\"params\": state['params'], **state['model_state']},\n",
    "        train=False,\n",
    "        method=model.ens_logits\n",
    "    )"
   ]
  },
  {
   "cell_type": "code",
   "execution_count": 8,
   "metadata": {},
   "outputs": [],
   "source": [
    "logits = jax.vmap(\n",
    "    pred_fun, axis_name=\"batch\"\n",
    ")(jnp.array(X_test))"
   ]
  },
  {
   "cell_type": "code",
   "execution_count": 14,
   "metadata": {},
   "outputs": [],
   "source": [
    "np.save(f'monotonicity/logits/{MODEL_NAME}_logits.npy', np.transpose(np.array(logits), axes=(1, 0, 2)))\n",
    "np.save(f'monotonicity/logits/{MODEL_NAME}_targets.npy',np.array(y_test))"
   ]
  },
  {
   "cell_type": "code",
   "execution_count": null,
   "metadata": {},
   "outputs": [],
   "source": []
  },
  {
   "cell_type": "code",
   "execution_count": null,
   "metadata": {},
   "outputs": [],
   "source": []
  },
  {
   "cell_type": "code",
   "execution_count": 98,
   "metadata": {},
   "outputs": [],
   "source": [
    "def poe_classificiation_experts_predictive(logits: jnp.DeviceArray) -> jnp.DeviceArray:\n",
    "    return jnp.nan_to_num((nn.sigmoid(logits).round().T / nn.sigmoid(logits).round().sum(axis=1)).T)"
   ]
  },
  {
   "cell_type": "code",
   "execution_count": 105,
   "metadata": {},
   "outputs": [],
   "source": [
    "probs_softmax = np.array(nn.softmax(logits))\n",
    "probs_ovr = np.array(jax.vmap(poe_classificiation_experts_predictive)(logits))\n",
    "logits = np.array(logits)"
   ]
  },
  {
   "cell_type": "code",
   "execution_count": 100,
   "metadata": {},
   "outputs": [],
   "source": [
    "# unit testing\n",
    "assert logits.shape == probs_softmax.shape\n",
    "assert np.isclose(probs_softmax[0, 0, :].sum(), 1.)\n",
    "\n",
    "assert logits.shape == probs_ovr.shape\n",
    "assert np.isclose(probs_ovr[0, 0, :].sum(), 1.)\n"
   ]
  },
  {
   "cell_type": "code",
   "execution_count": 101,
   "metadata": {},
   "outputs": [
    {
     "data": {
      "image/png": "[encoded data removed]",
      "text/plain": [
       "<Figure size 640x480 with 1 Axes>"
      ]
     },
     "metadata": {},
     "output_type": "display_data"
    },
    {
     "data": {
      "image/png": "[encoded data removed]",
      "text/plain": [
       "<Figure size 640x480 with 1 Axes>"
      ]
     },
     "metadata": {},
     "output_type": "display_data"
    },
    {
     "data": {
      "image/png": "[encoded data removed]",
      "text/plain": [
       "<Figure size 640x480 with 1 Axes>"
      ]
     },
     "metadata": {},
     "output_type": "display_data"
    },
    {
     "data": {
      "image/png": "[encoded data removed]",
      "text/plain": [
       "<Figure size 640x480 with 1 Axes>"
      ]
     },
     "metadata": {},
     "output_type": "display_data"
    },
    {
     "data": {
      "image/png": "[encoded data removed]",
      "text/plain": [
       "<Figure size 640x480 with 1 Axes>"
      ]
     },
     "metadata": {},
     "output_type": "display_data"
    }
   ],
   "source": [
    "M = 5\n",
    "C = 10\n",
    "\n",
    "# TYPE = \"de_softmax\"\n",
    "TYPE = \"poe_ovr\"\n",
    "\n",
    "for _ in range(5):\n",
    "    for i in rnd.sample(range(10000), 10):\n",
    "        if TYPE == \"de_softmax\":\n",
    "            probs_i = probs_softmax[i].cumsum(axis=0) / np.tile(np.arange(1, M + 1, 1), (C, 1)).T\n",
    "        elif TYPE == \"poe_ovr\":\n",
    "            probs_poe_ovr_i = probs_ovr[i].cumprod(axis=0)\n",
    "            probs_i = probs_poe_ovr_i / np.tile(probs_poe_ovr_i.sum(axis=1), (C, 1)).T\n",
    "        else:\n",
    "            raise ValueError()\n",
    "        modal_pred = probs_i[-1].argmax()\n",
    "        plt.plot(list(range(1, len(probs_i) + 1)), probs_i[:, modal_pred])\n",
    "    plt.show()"
   ]
  },
  {
   "cell_type": "code",
   "execution_count": null,
   "metadata": {},
   "outputs": [],
   "source": []
  },
  {
   "cell_type": "code",
   "execution_count": 112,
   "metadata": {},
   "outputs": [],
   "source": [
    "def ovr_likelihood(tensor: torch.Tensor) -> torch.tensor:\n",
    "    tensor = torch.clone(tensor)\n",
    "    # TODO: implement without for loops\n",
    "    assert len(tensor.shape) == 3  # (L, N_test, C)\n",
    "    for l in range(tensor.shape[0]):\n",
    "        for n in range(tensor.shape[1]):\n",
    "            ovr_mask = tensor[l, n, :] > 0\n",
    "            nr_non_zero = ovr_mask.sum()\n",
    "            if nr_non_zero == 0:\n",
    "                nr_non_zero = 1  # to avoid division by 0\n",
    "            tensor[l, n, :] = ovr_mask.long() / nr_non_zero\n",
    "    return tensor\n",
    "    \n",
    "\n",
    "def f_probs_ovr_poe(tensor: torch.Tensor) -> torch.tensor:\n",
    "    tensor = torch.clone(tensor)\n",
    "    # TODO: implement without for loops\n",
    "    assert len(tensor.shape) == 3  # (L, N_test, C)\n",
    "    tensor = tensor.cumprod(dim=0)\n",
    "    for l in range(tensor.shape[0]):\n",
    "        for n in range(tensor.shape[1]):\n",
    "            ovr_mask = tensor[l, n, :] > 0\n",
    "            if ovr_mask.sum() > 0:\n",
    "                tensor[l, n, :] = ovr_mask.long() / ovr_mask.sum()\n",
    "    return tensor\n",
    "\n",
    "\n",
    "def f_probs_ovr_poe_break_ties(logits, probs_ovr_poe, T=1.):\n",
    "    logits, probs_ovr_poe = torch.clone(logits), torch.clone(probs_ovr_poe)\n",
    "    # TODO: implement without for loops\n",
    "    assert len(logits.shape) == 3  # (L, N_test, C)\n",
    "    assert len(probs_ovr_poe.shape) == 3  # (L, N_test, C)\n",
    "    preds = []\n",
    "    for l in range(logits.shape[0]):\n",
    "        preds_l = []\n",
    "        for n in range(logits.shape[1]):\n",
    "            ovr_mask = probs_ovr_poe[l, n, :] > 0\n",
    "            preds_n = []\n",
    "            sum_n = 0.\n",
    "            for c in range(logits.shape[2]):\n",
    "                if ovr_mask[c]:\n",
    "                    sigmoid_prod = torch.sigmoid(T * logits[:l + 1, n, c]).prod()\n",
    "                else:\n",
    "                    sigmoid_prod = 0.\n",
    "                sum_n += sigmoid_prod\n",
    "                preds_n.append(sigmoid_prod)\n",
    "            if sum_n > 0.:\n",
    "                preds_n = [x / sum_n for x in preds_n]\n",
    "            preds_l.append(preds_n)\n",
    "        preds.append(preds_l)\n",
    "    return torch.tensor(preds)"
   ]
  },
  {
   "cell_type": "code",
   "execution_count": 114,
   "metadata": {},
   "outputs": [],
   "source": [
    "\n",
    "logits_T = torch.tensor(np.transpose(logits, axes=(1, 0, 2)))"
   ]
  },
  {
   "cell_type": "code",
   "execution_count": 120,
   "metadata": {},
   "outputs": [],
   "source": [
    "targets = torch.tensor(y_test)"
   ]
  },
  {
   "cell_type": "code",
   "execution_count": 122,
   "metadata": {},
   "outputs": [],
   "source": [
    "_probs_ovr = ovr_likelihood(logits_T)\n",
    "_probs_poe_ovr = f_probs_ovr_poe(_probs_ovr)\n",
    "_preds_poe_ovr = {i: torch.argmax(_probs_poe_ovr, dim=2)[i, :] for i in range(M)}\n",
    "_acc_poe_ovr = [(targets == _preds_poe_ovr[i]).sum() / len(targets) for i in range(M)]"
   ]
  },
  {
   "cell_type": "code",
   "execution_count": 123,
   "metadata": {},
   "outputs": [
    {
     "data": {
      "text/plain": [
       "[tensor(0.2232),\n",
       " tensor(0.2706),\n",
       " tensor(0.2960),\n",
       " tensor(0.3339),\n",
       " tensor(0.3460)]"
      ]
     },
     "execution_count": 123,
     "metadata": {},
     "output_type": "execute_result"
    }
   ],
   "source": [
    "_acc_poe_ovr"
   ]
  },
  {
   "cell_type": "code",
   "execution_count": 126,
   "metadata": {},
   "outputs": [],
   "source": [
    "_probs_poe_ovr_break_ties = f_probs_ovr_poe_break_ties(logits_T, _probs_poe_ovr)\n",
    "_preds_poe_ovr_break_ties = {i: torch.argmax(_probs_poe_ovr_break_ties, dim=2)[i, :] for i in range(M)}\n",
    "acc_poe_ovr_break_ties = [1. - (targets == _preds_poe_ovr_break_ties[i]).sum() / len(targets) for i in range(M)]"
   ]
  },
  {
   "cell_type": "code",
   "execution_count": 127,
   "metadata": {},
   "outputs": [
    {
     "data": {
      "text/plain": [
       "[tensor(0.1191),\n",
       " tensor(0.1132),\n",
       " tensor(0.1127),\n",
       " tensor(0.1109),\n",
       " tensor(0.1106)]"
      ]
     },
     "execution_count": 127,
     "metadata": {},
     "output_type": "execute_result"
    }
   ],
   "source": [
    "acc_poe_ovr_break_ties"
   ]
  },
  {
   "cell_type": "code",
   "execution_count": null,
   "metadata": {},
   "outputs": [],
   "source": []
  }
 ],
 "metadata": {
  "kernelspec": {
   "display_name": "any-poe",
   "language": "python",
   "name": "python3"
  },
  "language_info": {
   "codemirror_mode": {
    "name": "ipython",
    "version": 3
   },
   "file_extension": ".py",
   "mimetype": "text/x-python",
   "name": "python",
   "nbconvert_exporter": "python",
   "pygments_lexer": "ipython3",
   "version": "3.9.15"
  },
  "orig_nbformat": 4,
  "vscode": {
   "interpreter": {
    "hash": "682895caeafd9d2eeb8ad2029bf339688a6128d590b6991c1bdc3057418f01b4"
   }
  }
 },
 "nbformat": 4,
 "nbformat_minor": 2
}
