{
 "cells": [
  {
   "cell_type": "code",
   "execution_count": 2,
   "metadata": {},
   "outputs": [],
   "source": [
    "import shutil\n",
    "from os import walk\n",
    "import glob\n",
    "import numpy as np\n",
    "import matplotlib.pyplot as plt\n",
    "import pandas as pd"
   ]
  },
  {
   "cell_type": "code",
   "execution_count": 3,
   "metadata": {},
   "outputs": [
    {
     "name": "stdout",
     "output_type": "stream",
     "text": [
      "0\n",
      "1\n"
     ]
    }
   ],
   "source": [
    "PATH = \"/home/metod/datasets/mnist_collage/\"\n",
    "DATASETS = [\"train-all\", \"val-all\"]\n",
    "\n",
    "i = 0\n",
    "for j in range(len(DATASETS)):\n",
    "    print(j)\n",
    "    labels_df = []\n",
    "    for label in [0, 1]:\n",
    "        for img_path in glob.glob(f\"{PATH}/{DATASETS[j]}/{label}/*.png\"):\n",
    "            shutil.move(img_path, f'{PATH}/train/{i}.png')\n",
    "            i += 1\n",
    "            labels_df.append((f\"{i}.png\", label, \"train\"))\n",
    "    labels_df = pd.DataFrame(labels_df)\n",
    "    labels_df.to_csv(f\"{PATH}/train/labels.csv\", index=False, header=False)\n"
   ]
  },
  {
   "cell_type": "code",
   "execution_count": 38,
   "metadata": {},
   "outputs": [
    {
     "name": "stdout",
     "output_type": "stream",
     "text": [
      "0\n",
      "1\n",
      "2\n",
      "3\n"
     ]
    }
   ],
   "source": [
    "PATH = \"/home/metod/datasets/mnist_collage\"\n",
    "TEST_DATASETS = [\"test-fashion\", \"test-mnist\", \"test-svhn\", \"test-cifar\"]\n",
    "\n",
    "i = 0\n",
    "for j, dataset in enumerate(TEST_DATASETS):\n",
    "    print(j)\n",
    "    labels_df = []\n",
    "    for label in [0, 1]:\n",
    "        for img_path in glob.glob(f\"{PATH}/{dataset}/{label}/*.png\"):\n",
    "            shutil.move(img_path, f'{PATH}/test/{i}.png')\n",
    "            i += 1\n",
    "            labels_df.append((f\"{i}.png\", label, dataset))\n",
    "    labels_df = pd.DataFrame(labels_df)\n",
    "    labels_df.to_csv(f\"{PATH}/test/labels.csv\", index=False, header=False)"
   ]
  },
  {
   "cell_type": "code",
   "execution_count": null,
   "metadata": {},
   "outputs": [],
   "source": []
  }
 ],
 "metadata": {
  "kernelspec": {
   "display_name": "any-poe",
   "language": "python",
   "name": "python3"
  },
  "language_info": {
   "codemirror_mode": {
    "name": "ipython",
    "version": 3
   },
   "file_extension": ".py",
   "mimetype": "text/x-python",
   "name": "python",
   "nbconvert_exporter": "python",
   "pygments_lexer": "ipython3",
   "version": "3.9.15 (main, Oct 12 2022, 19:15:11) \n[GCC 7.5.0]"
  },
  "orig_nbformat": 4,
  "vscode": {
   "interpreter": {
    "hash": "682895caeafd9d2eeb8ad2029bf339688a6128d590b6991c1bdc3057418f01b4"
   }
  }
 },
 "nbformat": 4,
 "nbformat_minor": 2
}
